{
  "nbformat": 4,
  "nbformat_minor": 0,
  "metadata": {
    "colab": {
      "provenance": []
    },
    "kernelspec": {
      "name": "python3",
      "display_name": "Python 3"
    },
    "language_info": {
      "name": "python"
    }
  },
  "cells": [
    {
      "cell_type": "markdown",
      "source": [
        "ASSIGNMENT3"
      ],
      "metadata": {
        "id": "tM11DSZAt6xk"
      }
    },
    {
      "cell_type": "markdown",
      "source": [
        "Assignment3 ->\n",
        "work on string template class"
      ],
      "metadata": {
        "id": "9o8h1aYCgx-Q"
      }
    },
    {
      "cell_type": "code",
      "execution_count": null,
      "metadata": {
        "id": "xyA13Zs_gnXn"
      },
      "outputs": [],
      "source": [
        "# string formating -> it is a process of infusing things in the string dynamically and presenting the string\n",
        "# There are four different ways to perform string formatting\n",
        "  1.Formatting string using operator\n",
        "  2.Formatting string using format method\n",
        "  3.Formatted string using F-strings\n",
        "  4.String template class"
      ]
    },
    {
      "cell_type": "code",
      "source": [
        "# String template class \n",
        "# Template class allows us to create simplified syntax for output specification\n",
        "# The format uses placeholder names formed by $ with valid python identifiers(alphanumeric charactersand underscores)"
      ],
      "metadata": {
        "id": "OYKGc62tiyG9"
      },
      "execution_count": null,
      "outputs": []
    },
    {
      "cell_type": "markdown",
      "source": [
        "EXAMPLE1"
      ],
      "metadata": {
        "id": "RyY70yDYlDaD"
      }
    },
    {
      "cell_type": "code",
      "source": [
        "# A simple python template example\n",
        "from string import Template\n",
        "\n",
        "# Create a template that has placeholders for value of x\n",
        "t = Template('x is $x')\n",
        "\n",
        "# Substitute value of x in above template\n",
        "print (t.substitute({'x' :1}))"
      ],
      "metadata": {
        "colab": {
          "base_uri": "https://localhost:8080/"
        },
        "id": "fZYrVxzrklwZ",
        "outputId": "27c3eb54-d17b-404a-f672-871cf9464e15"
      },
      "execution_count": 2,
      "outputs": [
        {
          "output_type": "stream",
          "name": "stdout",
          "text": [
            "x is 1\n"
          ]
        }
      ]
    },
    {
      "cell_type": "markdown",
      "source": [
        "EXAMPLE2"
      ],
      "metadata": {
        "id": "MEy5ev49mxFK"
      }
    },
    {
      "cell_type": "code",
      "source": [
        "# A python program to demonstrate the\n",
        "# working of the string template\n",
        "from string import Template\n",
        "\n",
        "# List student stores the name and marks of three students\n",
        "student = [('Lucky',90),('Nandu',78),('Nikky',92)]\n",
        "\n",
        "# We are creating a basic structure to print the name and\n",
        "# marks of the students\n",
        "t = Template('Hi $name, you have got $marks marks')\n",
        "\n",
        "for i in student:\n",
        "     print (t.substitute(name = i[0], marks = i[1]))"
      ],
      "metadata": {
        "colab": {
          "base_uri": "https://localhost:8080/"
        },
        "id": "SQXMEByvmzUG",
        "outputId": "986f8733-4374-43ff-d84b-deaaa4206e01"
      },
      "execution_count": 4,
      "outputs": [
        {
          "output_type": "stream",
          "name": "stdout",
          "text": [
            "Hi Lucky, you have got 90 marks\n",
            "Hi Nandu, you have got 78 marks\n",
            "Hi Nikky, you have got 92 marks\n"
          ]
        }
      ]
    },
    {
      "cell_type": "markdown",
      "source": [
        "EXAMPLE3"
      ],
      "metadata": {
        "id": "iqxFbvC9qcYm"
      }
    },
    {
      "cell_type": "code",
      "source": [
        "from string import Template\n",
        "\n",
        "template = Template('$name is the $job of $company')\n",
        "\n",
        "string = template.safe_substitute(name='Venkatesh',job='TCE')\n",
        "print(string)"
      ],
      "metadata": {
        "colab": {
          "base_uri": "https://localhost:8080/"
        },
        "id": "dnntIm0tqgLN",
        "outputId": "9d17791a-684e-4501-c5d5-069f8bc2106f"
      },
      "execution_count": 5,
      "outputs": [
        {
          "output_type": "stream",
          "name": "stdout",
          "text": [
            "Venkatesh is the TCE of $company\n"
          ]
        }
      ]
    },
    {
      "cell_type": "markdown",
      "source": [
        "EXAMPLE4"
      ],
      "metadata": {
        "id": "5lCxcVXJrlqg"
      }
    },
    {
      "cell_type": "code",
      "source": [
        "t = Template('I am lucky from hyderabad')\n",
        "print('Template String = ',t.template)"
      ],
      "metadata": {
        "colab": {
          "base_uri": "https://localhost:8080/"
        },
        "id": "ZfidjUxornns",
        "outputId": "00fe1112-68a6-48d2-98f4-8bc317b6a24f"
      },
      "execution_count": 7,
      "outputs": [
        {
          "output_type": "stream",
          "name": "stdout",
          "text": [
            "Template String =  I am lucky from hyderabad\n"
          ]
        }
      ]
    },
    {
      "cell_type": "markdown",
      "source": [
        "EXAMPLE5"
      ],
      "metadata": {
        "id": "63Vp9ccAsa3F"
      }
    },
    {
      "cell_type": "code",
      "source": [
        "template = Template('$$ is the symbol for $name')\n",
        "string = template.substitute(name='Dollar')\n",
        "print(string)"
      ],
      "metadata": {
        "colab": {
          "base_uri": "https://localhost:8080/"
        },
        "id": "rFP_fcb1sgrs",
        "outputId": "d88ecd2d-c08d-434a-b622-433794e51d45"
      },
      "execution_count": 12,
      "outputs": [
        {
          "output_type": "stream",
          "name": "stdout",
          "text": [
            "$ is the symbol for Dollar\n"
          ]
        }
      ]
    },
    {
      "cell_type": "markdown",
      "source": [
        "EXAMPLE6"
      ],
      "metadata": {
        "id": "DljMVOx3uN5q"
      }
    },
    {
      "cell_type": "code",
      "source": [
        "template = Template('That $noun looks ${noun}y')\n",
        "string = template.substitute(noun='Fish')\n",
        "print(string)"
      ],
      "metadata": {
        "colab": {
          "base_uri": "https://localhost:8080/"
        },
        "id": "C83gVtMluSTi",
        "outputId": "8e3acf76-072c-476c-a92b-b27d9ccf977c"
      },
      "execution_count": 13,
      "outputs": [
        {
          "output_type": "stream",
          "name": "stdout",
          "text": [
            "That Fish looks Fishy\n"
          ]
        }
      ]
    }
  ]
}